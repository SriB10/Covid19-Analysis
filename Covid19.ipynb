{
 "cells": [
  {
   "cell_type": "markdown",
   "metadata": {},
   "source": [
    "# Covid 19- India, Data Analysis"
   ]
  },
  {
   "cell_type": "markdown",
   "metadata": {},
   "source": [
    "### import libraries"
   ]
  },
  {
   "cell_type": "code",
   "execution_count": 1,
   "metadata": {},
   "outputs": [],
   "source": [
    "import pandas as pd\n",
    "import numpy as np\n",
    "import seaborn as sns\n",
    "import matplotlib.pyplot as plt\n",
    "sns.set(rc={'figure.figsize':(11.7,8.27)})"
   ]
  },
  {
   "cell_type": "markdown",
   "metadata": {},
   "source": [
    "### Read district wise csv data"
   ]
  },
  {
   "cell_type": "code",
   "execution_count": 2,
   "metadata": {},
   "outputs": [],
   "source": [
    "data=pd.read_csv(r\"https://api.covid19india.org/csv/latest/district_wise.csv\")"
   ]
  },
  {
   "cell_type": "markdown",
   "metadata": {},
   "source": [
    "### Top 5 Rows in Dataset"
   ]
  },
  {
   "cell_type": "code",
   "execution_count": 3,
   "metadata": {},
   "outputs": [
    {
     "data": {
      "text/html": [
       "<div>\n",
       "<style scoped>\n",
       "    .dataframe tbody tr th:only-of-type {\n",
       "        vertical-align: middle;\n",
       "    }\n",
       "\n",
       "    .dataframe tbody tr th {\n",
       "        vertical-align: top;\n",
       "    }\n",
       "\n",
       "    .dataframe thead th {\n",
       "        text-align: right;\n",
       "    }\n",
       "</style>\n",
       "<table border=\"1\" class=\"dataframe\">\n",
       "  <thead>\n",
       "    <tr style=\"text-align: right;\">\n",
       "      <th></th>\n",
       "      <th>SlNo</th>\n",
       "      <th>State_Code</th>\n",
       "      <th>State</th>\n",
       "      <th>District_Key</th>\n",
       "      <th>District</th>\n",
       "      <th>Confirmed</th>\n",
       "      <th>Active</th>\n",
       "      <th>Recovered</th>\n",
       "      <th>Deceased</th>\n",
       "      <th>Migrated_Other</th>\n",
       "      <th>Delta_Confirmed</th>\n",
       "      <th>Delta_Active</th>\n",
       "      <th>Delta_Recovered</th>\n",
       "      <th>Delta_Deceased</th>\n",
       "      <th>District_Notes</th>\n",
       "      <th>Last_Updated</th>\n",
       "    </tr>\n",
       "  </thead>\n",
       "  <tbody>\n",
       "    <tr>\n",
       "      <td>0</td>\n",
       "      <td>0</td>\n",
       "      <td>UN</td>\n",
       "      <td>State Unassigned</td>\n",
       "      <td>UN_Unassigned</td>\n",
       "      <td>Unassigned</td>\n",
       "      <td>0</td>\n",
       "      <td>0</td>\n",
       "      <td>0</td>\n",
       "      <td>0</td>\n",
       "      <td>0</td>\n",
       "      <td>0</td>\n",
       "      <td>0</td>\n",
       "      <td>0</td>\n",
       "      <td>0</td>\n",
       "      <td>NaN</td>\n",
       "      <td>NaN</td>\n",
       "    </tr>\n",
       "    <tr>\n",
       "      <td>1</td>\n",
       "      <td>1</td>\n",
       "      <td>AN</td>\n",
       "      <td>Andaman and Nicobar Islands</td>\n",
       "      <td>AN_Nicobars</td>\n",
       "      <td>Nicobars</td>\n",
       "      <td>0</td>\n",
       "      <td>0</td>\n",
       "      <td>0</td>\n",
       "      <td>0</td>\n",
       "      <td>0</td>\n",
       "      <td>0</td>\n",
       "      <td>0</td>\n",
       "      <td>0</td>\n",
       "      <td>0</td>\n",
       "      <td>District-wise numbers are out-dated as cumulat...</td>\n",
       "      <td>NaN</td>\n",
       "    </tr>\n",
       "    <tr>\n",
       "      <td>2</td>\n",
       "      <td>2</td>\n",
       "      <td>AN</td>\n",
       "      <td>Andaman and Nicobar Islands</td>\n",
       "      <td>AN_North and Middle Andaman</td>\n",
       "      <td>North and Middle Andaman</td>\n",
       "      <td>1</td>\n",
       "      <td>0</td>\n",
       "      <td>1</td>\n",
       "      <td>0</td>\n",
       "      <td>0</td>\n",
       "      <td>0</td>\n",
       "      <td>0</td>\n",
       "      <td>0</td>\n",
       "      <td>0</td>\n",
       "      <td>District-wise numbers are out-dated as cumulat...</td>\n",
       "      <td>NaN</td>\n",
       "    </tr>\n",
       "    <tr>\n",
       "      <td>3</td>\n",
       "      <td>3</td>\n",
       "      <td>AN</td>\n",
       "      <td>Andaman and Nicobar Islands</td>\n",
       "      <td>AN_South Andaman</td>\n",
       "      <td>South Andaman</td>\n",
       "      <td>51</td>\n",
       "      <td>19</td>\n",
       "      <td>32</td>\n",
       "      <td>0</td>\n",
       "      <td>0</td>\n",
       "      <td>0</td>\n",
       "      <td>0</td>\n",
       "      <td>0</td>\n",
       "      <td>0</td>\n",
       "      <td>District-wise numbers are out-dated as cumulat...</td>\n",
       "      <td>NaN</td>\n",
       "    </tr>\n",
       "    <tr>\n",
       "      <td>4</td>\n",
       "      <td>0</td>\n",
       "      <td>AP</td>\n",
       "      <td>Andhra Pradesh</td>\n",
       "      <td>AP_Foreign Evacuees</td>\n",
       "      <td>Foreign Evacuees</td>\n",
       "      <td>434</td>\n",
       "      <td>0</td>\n",
       "      <td>434</td>\n",
       "      <td>0</td>\n",
       "      <td>0</td>\n",
       "      <td>0</td>\n",
       "      <td>0</td>\n",
       "      <td>0</td>\n",
       "      <td>0</td>\n",
       "      <td>NaN</td>\n",
       "      <td>NaN</td>\n",
       "    </tr>\n",
       "  </tbody>\n",
       "</table>\n",
       "</div>"
      ],
      "text/plain": [
       "   SlNo State_Code                        State                 District_Key  \\\n",
       "0     0         UN             State Unassigned                UN_Unassigned   \n",
       "1     1         AN  Andaman and Nicobar Islands                  AN_Nicobars   \n",
       "2     2         AN  Andaman and Nicobar Islands  AN_North and Middle Andaman   \n",
       "3     3         AN  Andaman and Nicobar Islands             AN_South Andaman   \n",
       "4     0         AP               Andhra Pradesh          AP_Foreign Evacuees   \n",
       "\n",
       "                   District  Confirmed  Active  Recovered  Deceased  \\\n",
       "0                Unassigned          0       0          0         0   \n",
       "1                  Nicobars          0       0          0         0   \n",
       "2  North and Middle Andaman          1       0          1         0   \n",
       "3             South Andaman         51      19         32         0   \n",
       "4          Foreign Evacuees        434       0        434         0   \n",
       "\n",
       "   Migrated_Other  Delta_Confirmed  Delta_Active  Delta_Recovered  \\\n",
       "0               0                0             0                0   \n",
       "1               0                0             0                0   \n",
       "2               0                0             0                0   \n",
       "3               0                0             0                0   \n",
       "4               0                0             0                0   \n",
       "\n",
       "   Delta_Deceased                                     District_Notes  \\\n",
       "0               0                                                NaN   \n",
       "1               0  District-wise numbers are out-dated as cumulat...   \n",
       "2               0  District-wise numbers are out-dated as cumulat...   \n",
       "3               0  District-wise numbers are out-dated as cumulat...   \n",
       "4               0                                                NaN   \n",
       "\n",
       "   Last_Updated  \n",
       "0           NaN  \n",
       "1           NaN  \n",
       "2           NaN  \n",
       "3           NaN  \n",
       "4           NaN  "
      ]
     },
     "execution_count": 3,
     "metadata": {},
     "output_type": "execute_result"
    }
   ],
   "source": [
    "data.head()"
   ]
  },
  {
   "cell_type": "markdown",
   "metadata": {},
   "source": [
    "### List Column the columns that are present "
   ]
  },
  {
   "cell_type": "code",
   "execution_count": 4,
   "metadata": {},
   "outputs": [
    {
     "data": {
      "text/plain": [
       "Index(['SlNo', 'State_Code', 'State', 'District_Key', 'District', 'Confirmed',\n",
       "       'Active', 'Recovered', 'Deceased', 'Migrated_Other', 'Delta_Confirmed',\n",
       "       'Delta_Active', 'Delta_Recovered', 'Delta_Deceased', 'District_Notes',\n",
       "       'Last_Updated'],\n",
       "      dtype='object')"
      ]
     },
     "execution_count": 4,
     "metadata": {},
     "output_type": "execute_result"
    }
   ],
   "source": [
    "data.columns"
   ]
  },
  {
   "cell_type": "markdown",
   "metadata": {},
   "source": [
    "### Last 5 rows in dataset"
   ]
  },
  {
   "cell_type": "code",
   "execution_count": 5,
   "metadata": {},
   "outputs": [
    {
     "data": {
      "text/html": [
       "<div>\n",
       "<style scoped>\n",
       "    .dataframe tbody tr th:only-of-type {\n",
       "        vertical-align: middle;\n",
       "    }\n",
       "\n",
       "    .dataframe tbody tr th {\n",
       "        vertical-align: top;\n",
       "    }\n",
       "\n",
       "    .dataframe thead th {\n",
       "        text-align: right;\n",
       "    }\n",
       "</style>\n",
       "<table border=\"1\" class=\"dataframe\">\n",
       "  <thead>\n",
       "    <tr style=\"text-align: right;\">\n",
       "      <th></th>\n",
       "      <th>SlNo</th>\n",
       "      <th>State_Code</th>\n",
       "      <th>State</th>\n",
       "      <th>District_Key</th>\n",
       "      <th>District</th>\n",
       "      <th>Confirmed</th>\n",
       "      <th>Active</th>\n",
       "      <th>Recovered</th>\n",
       "      <th>Deceased</th>\n",
       "      <th>Migrated_Other</th>\n",
       "      <th>Delta_Confirmed</th>\n",
       "      <th>Delta_Active</th>\n",
       "      <th>Delta_Recovered</th>\n",
       "      <th>Delta_Deceased</th>\n",
       "      <th>District_Notes</th>\n",
       "      <th>Last_Updated</th>\n",
       "    </tr>\n",
       "  </thead>\n",
       "  <tbody>\n",
       "    <tr>\n",
       "      <td>796</td>\n",
       "      <td>760</td>\n",
       "      <td>TG</td>\n",
       "      <td>Telangana</td>\n",
       "      <td>TG_Unknown</td>\n",
       "      <td>Unknown</td>\n",
       "      <td>457</td>\n",
       "      <td>-131405</td>\n",
       "      <td>130896</td>\n",
       "      <td>966</td>\n",
       "      <td>0</td>\n",
       "      <td>0</td>\n",
       "      <td>0</td>\n",
       "      <td>0</td>\n",
       "      <td>0</td>\n",
       "      <td>NaN</td>\n",
       "      <td>NaN</td>\n",
       "    </tr>\n",
       "    <tr>\n",
       "      <td>797</td>\n",
       "      <td>761</td>\n",
       "      <td>TR</td>\n",
       "      <td>Tripura</td>\n",
       "      <td>TR_Unknown</td>\n",
       "      <td>Unknown</td>\n",
       "      <td>0</td>\n",
       "      <td>0</td>\n",
       "      <td>0</td>\n",
       "      <td>0</td>\n",
       "      <td>0</td>\n",
       "      <td>0</td>\n",
       "      <td>0</td>\n",
       "      <td>0</td>\n",
       "      <td>0</td>\n",
       "      <td>NaN</td>\n",
       "      <td>NaN</td>\n",
       "    </tr>\n",
       "    <tr>\n",
       "      <td>798</td>\n",
       "      <td>762</td>\n",
       "      <td>UP</td>\n",
       "      <td>Uttar Pradesh</td>\n",
       "      <td>UP_Unknown</td>\n",
       "      <td>Unknown</td>\n",
       "      <td>0</td>\n",
       "      <td>0</td>\n",
       "      <td>0</td>\n",
       "      <td>0</td>\n",
       "      <td>0</td>\n",
       "      <td>0</td>\n",
       "      <td>0</td>\n",
       "      <td>0</td>\n",
       "      <td>0</td>\n",
       "      <td>NaN</td>\n",
       "      <td>NaN</td>\n",
       "    </tr>\n",
       "    <tr>\n",
       "      <td>799</td>\n",
       "      <td>763</td>\n",
       "      <td>UT</td>\n",
       "      <td>Uttarakhand</td>\n",
       "      <td>UT_Unknown</td>\n",
       "      <td>Unknown</td>\n",
       "      <td>0</td>\n",
       "      <td>0</td>\n",
       "      <td>0</td>\n",
       "      <td>0</td>\n",
       "      <td>0</td>\n",
       "      <td>0</td>\n",
       "      <td>0</td>\n",
       "      <td>0</td>\n",
       "      <td>0</td>\n",
       "      <td>NaN</td>\n",
       "      <td>NaN</td>\n",
       "    </tr>\n",
       "    <tr>\n",
       "      <td>800</td>\n",
       "      <td>764</td>\n",
       "      <td>WB</td>\n",
       "      <td>West Bengal</td>\n",
       "      <td>WB_Unknown</td>\n",
       "      <td>Unknown</td>\n",
       "      <td>0</td>\n",
       "      <td>0</td>\n",
       "      <td>0</td>\n",
       "      <td>0</td>\n",
       "      <td>0</td>\n",
       "      <td>0</td>\n",
       "      <td>0</td>\n",
       "      <td>0</td>\n",
       "      <td>0</td>\n",
       "      <td>NaN</td>\n",
       "      <td>NaN</td>\n",
       "    </tr>\n",
       "  </tbody>\n",
       "</table>\n",
       "</div>"
      ],
      "text/plain": [
       "     SlNo State_Code          State District_Key District  Confirmed  Active  \\\n",
       "796   760         TG      Telangana   TG_Unknown  Unknown        457 -131405   \n",
       "797   761         TR        Tripura   TR_Unknown  Unknown          0       0   \n",
       "798   762         UP  Uttar Pradesh   UP_Unknown  Unknown          0       0   \n",
       "799   763         UT    Uttarakhand   UT_Unknown  Unknown          0       0   \n",
       "800   764         WB    West Bengal   WB_Unknown  Unknown          0       0   \n",
       "\n",
       "     Recovered  Deceased  Migrated_Other  Delta_Confirmed  Delta_Active  \\\n",
       "796     130896       966               0                0             0   \n",
       "797          0         0               0                0             0   \n",
       "798          0         0               0                0             0   \n",
       "799          0         0               0                0             0   \n",
       "800          0         0               0                0             0   \n",
       "\n",
       "     Delta_Recovered  Delta_Deceased District_Notes  Last_Updated  \n",
       "796                0               0            NaN           NaN  \n",
       "797                0               0            NaN           NaN  \n",
       "798                0               0            NaN           NaN  \n",
       "799                0               0            NaN           NaN  \n",
       "800                0               0            NaN           NaN  "
      ]
     },
     "execution_count": 5,
     "metadata": {},
     "output_type": "execute_result"
    }
   ],
   "source": [
    "data.tail()"
   ]
  },
  {
   "cell_type": "markdown",
   "metadata": {},
   "source": [
    "### Statistical values of dataset"
   ]
  },
  {
   "cell_type": "code",
   "execution_count": 6,
   "metadata": {},
   "outputs": [
    {
     "data": {
      "text/html": [
       "<div>\n",
       "<style scoped>\n",
       "    .dataframe tbody tr th:only-of-type {\n",
       "        vertical-align: middle;\n",
       "    }\n",
       "\n",
       "    .dataframe tbody tr th {\n",
       "        vertical-align: top;\n",
       "    }\n",
       "\n",
       "    .dataframe thead th {\n",
       "        text-align: right;\n",
       "    }\n",
       "</style>\n",
       "<table border=\"1\" class=\"dataframe\">\n",
       "  <thead>\n",
       "    <tr style=\"text-align: right;\">\n",
       "      <th></th>\n",
       "      <th>SlNo</th>\n",
       "      <th>Confirmed</th>\n",
       "      <th>Active</th>\n",
       "      <th>Recovered</th>\n",
       "      <th>Deceased</th>\n",
       "      <th>Migrated_Other</th>\n",
       "      <th>Delta_Confirmed</th>\n",
       "      <th>Delta_Active</th>\n",
       "      <th>Delta_Recovered</th>\n",
       "      <th>Delta_Deceased</th>\n",
       "      <th>Last_Updated</th>\n",
       "    </tr>\n",
       "  </thead>\n",
       "  <tbody>\n",
       "    <tr>\n",
       "      <td>count</td>\n",
       "      <td>801.000000</td>\n",
       "      <td>801.000000</td>\n",
       "      <td>801.000000</td>\n",
       "      <td>801.000000</td>\n",
       "      <td>801.000000</td>\n",
       "      <td>801.000000</td>\n",
       "      <td>801.000000</td>\n",
       "      <td>801.000000</td>\n",
       "      <td>801.000000</td>\n",
       "      <td>801.000000</td>\n",
       "      <td>0.0</td>\n",
       "    </tr>\n",
       "    <tr>\n",
       "      <td>mean</td>\n",
       "      <td>372.329588</td>\n",
       "      <td>6273.461923</td>\n",
       "      <td>1248.774032</td>\n",
       "      <td>4921.204744</td>\n",
       "      <td>102.526841</td>\n",
       "      <td>0.892634</td>\n",
       "      <td>8.750312</td>\n",
       "      <td>8.087391</td>\n",
       "      <td>0.636704</td>\n",
       "      <td>0.026217</td>\n",
       "      <td>NaN</td>\n",
       "    </tr>\n",
       "    <tr>\n",
       "      <td>std</td>\n",
       "      <td>230.211824</td>\n",
       "      <td>18345.124749</td>\n",
       "      <td>6616.149925</td>\n",
       "      <td>15135.865758</td>\n",
       "      <td>456.366661</td>\n",
       "      <td>13.059707</td>\n",
       "      <td>44.869255</td>\n",
       "      <td>44.563184</td>\n",
       "      <td>9.726592</td>\n",
       "      <td>0.235716</td>\n",
       "      <td>NaN</td>\n",
       "    </tr>\n",
       "    <tr>\n",
       "      <td>min</td>\n",
       "      <td>0.000000</td>\n",
       "      <td>0.000000</td>\n",
       "      <td>-131405.000000</td>\n",
       "      <td>0.000000</td>\n",
       "      <td>0.000000</td>\n",
       "      <td>0.000000</td>\n",
       "      <td>0.000000</td>\n",
       "      <td>-107.000000</td>\n",
       "      <td>0.000000</td>\n",
       "      <td>0.000000</td>\n",
       "      <td>NaN</td>\n",
       "    </tr>\n",
       "    <tr>\n",
       "      <td>25%</td>\n",
       "      <td>172.000000</td>\n",
       "      <td>666.000000</td>\n",
       "      <td>134.000000</td>\n",
       "      <td>333.000000</td>\n",
       "      <td>1.000000</td>\n",
       "      <td>0.000000</td>\n",
       "      <td>0.000000</td>\n",
       "      <td>0.000000</td>\n",
       "      <td>0.000000</td>\n",
       "      <td>0.000000</td>\n",
       "      <td>NaN</td>\n",
       "    </tr>\n",
       "    <tr>\n",
       "      <td>50%</td>\n",
       "      <td>372.000000</td>\n",
       "      <td>2007.000000</td>\n",
       "      <td>427.000000</td>\n",
       "      <td>1307.000000</td>\n",
       "      <td>15.000000</td>\n",
       "      <td>0.000000</td>\n",
       "      <td>0.000000</td>\n",
       "      <td>0.000000</td>\n",
       "      <td>0.000000</td>\n",
       "      <td>0.000000</td>\n",
       "      <td>NaN</td>\n",
       "    </tr>\n",
       "    <tr>\n",
       "      <td>75%</td>\n",
       "      <td>572.000000</td>\n",
       "      <td>4997.000000</td>\n",
       "      <td>1122.000000</td>\n",
       "      <td>3715.000000</td>\n",
       "      <td>52.000000</td>\n",
       "      <td>0.000000</td>\n",
       "      <td>0.000000</td>\n",
       "      <td>0.000000</td>\n",
       "      <td>0.000000</td>\n",
       "      <td>0.000000</td>\n",
       "      <td>NaN</td>\n",
       "    </tr>\n",
       "    <tr>\n",
       "      <td>max</td>\n",
       "      <td>766.000000</td>\n",
       "      <td>239481.000000</td>\n",
       "      <td>80152.000000</td>\n",
       "      <td>191203.000000</td>\n",
       "      <td>8230.000000</td>\n",
       "      <td>362.000000</td>\n",
       "      <td>876.000000</td>\n",
       "      <td>874.000000</td>\n",
       "      <td>257.000000</td>\n",
       "      <td>3.000000</td>\n",
       "      <td>NaN</td>\n",
       "    </tr>\n",
       "  </tbody>\n",
       "</table>\n",
       "</div>"
      ],
      "text/plain": [
       "             SlNo      Confirmed         Active      Recovered     Deceased  \\\n",
       "count  801.000000     801.000000     801.000000     801.000000   801.000000   \n",
       "mean   372.329588    6273.461923    1248.774032    4921.204744   102.526841   \n",
       "std    230.211824   18345.124749    6616.149925   15135.865758   456.366661   \n",
       "min      0.000000       0.000000 -131405.000000       0.000000     0.000000   \n",
       "25%    172.000000     666.000000     134.000000     333.000000     1.000000   \n",
       "50%    372.000000    2007.000000     427.000000    1307.000000    15.000000   \n",
       "75%    572.000000    4997.000000    1122.000000    3715.000000    52.000000   \n",
       "max    766.000000  239481.000000   80152.000000  191203.000000  8230.000000   \n",
       "\n",
       "       Migrated_Other  Delta_Confirmed  Delta_Active  Delta_Recovered  \\\n",
       "count      801.000000       801.000000    801.000000       801.000000   \n",
       "mean         0.892634         8.750312      8.087391         0.636704   \n",
       "std         13.059707        44.869255     44.563184         9.726592   \n",
       "min          0.000000         0.000000   -107.000000         0.000000   \n",
       "25%          0.000000         0.000000      0.000000         0.000000   \n",
       "50%          0.000000         0.000000      0.000000         0.000000   \n",
       "75%          0.000000         0.000000      0.000000         0.000000   \n",
       "max        362.000000       876.000000    874.000000       257.000000   \n",
       "\n",
       "       Delta_Deceased  Last_Updated  \n",
       "count      801.000000           0.0  \n",
       "mean         0.026217           NaN  \n",
       "std          0.235716           NaN  \n",
       "min          0.000000           NaN  \n",
       "25%          0.000000           NaN  \n",
       "50%          0.000000           NaN  \n",
       "75%          0.000000           NaN  \n",
       "max          3.000000           NaN  "
      ]
     },
     "execution_count": 6,
     "metadata": {},
     "output_type": "execute_result"
    }
   ],
   "source": [
    "data.describe()"
   ]
  },
  {
   "cell_type": "markdown",
   "metadata": {},
   "source": [
    "### Sum of Null values in each column"
   ]
  },
  {
   "cell_type": "code",
   "execution_count": 7,
   "metadata": {},
   "outputs": [
    {
     "data": {
      "text/plain": [
       "SlNo                 0\n",
       "State_Code           0\n",
       "State                0\n",
       "District_Key         0\n",
       "District             0\n",
       "Confirmed            0\n",
       "Active               0\n",
       "Recovered            0\n",
       "Deceased             0\n",
       "Migrated_Other       0\n",
       "Delta_Confirmed      0\n",
       "Delta_Active         0\n",
       "Delta_Recovered      0\n",
       "Delta_Deceased       0\n",
       "District_Notes     735\n",
       "Last_Updated       801\n",
       "dtype: int64"
      ]
     },
     "execution_count": 7,
     "metadata": {},
     "output_type": "execute_result"
    }
   ],
   "source": [
    "data.isnull().sum()"
   ]
  },
  {
   "cell_type": "markdown",
   "metadata": {},
   "source": [
    "### Total Number of rows and colmn present in dataset"
   ]
  },
  {
   "cell_type": "code",
   "execution_count": 8,
   "metadata": {},
   "outputs": [
    {
     "data": {
      "text/plain": [
       "(801, 16)"
      ]
     },
     "execution_count": 8,
     "metadata": {},
     "output_type": "execute_result"
    }
   ],
   "source": [
    "data.shape"
   ]
  },
  {
   "cell_type": "markdown",
   "metadata": {},
   "source": [
    "### Column wise information to see how many non null values are present and data type of each column"
   ]
  },
  {
   "cell_type": "code",
   "execution_count": 9,
   "metadata": {},
   "outputs": [
    {
     "name": "stdout",
     "output_type": "stream",
     "text": [
      "<class 'pandas.core.frame.DataFrame'>\n",
      "RangeIndex: 801 entries, 0 to 800\n",
      "Data columns (total 16 columns):\n",
      "SlNo               801 non-null int64\n",
      "State_Code         801 non-null object\n",
      "State              801 non-null object\n",
      "District_Key       801 non-null object\n",
      "District           801 non-null object\n",
      "Confirmed          801 non-null int64\n",
      "Active             801 non-null int64\n",
      "Recovered          801 non-null int64\n",
      "Deceased           801 non-null int64\n",
      "Migrated_Other     801 non-null int64\n",
      "Delta_Confirmed    801 non-null int64\n",
      "Delta_Active       801 non-null int64\n",
      "Delta_Recovered    801 non-null int64\n",
      "Delta_Deceased     801 non-null int64\n",
      "District_Notes     66 non-null object\n",
      "Last_Updated       0 non-null float64\n",
      "dtypes: float64(1), int64(10), object(5)\n",
      "memory usage: 100.2+ KB\n"
     ]
    }
   ],
   "source": [
    "data.info()"
   ]
  },
  {
   "cell_type": "markdown",
   "metadata": {},
   "source": [
    "### Count of states that were repeated in dataset"
   ]
  },
  {
   "cell_type": "code",
   "execution_count": 10,
   "metadata": {},
   "outputs": [
    {
     "data": {
      "text/plain": [
       "Uttar Pradesh                               76\n",
       "Madhya Pradesh                              54\n",
       "Tamil Nadu                                  41\n",
       "Bihar                                       39\n",
       "Rajasthan                                   38\n",
       "Maharashtra                                 38\n",
       "Telangana                                   36\n",
       "Assam                                       36\n",
       "Gujarat                                     35\n",
       "Odisha                                      33\n",
       "Karnataka                                   32\n",
       "Chhattisgarh                                30\n",
       "Arunachal Pradesh                           26\n",
       "Jharkhand                                   25\n",
       "West Bengal                                 25\n",
       "Haryana                                     25\n",
       "Jammu and Kashmir                           23\n",
       "Punjab                                      23\n",
       "Manipur                                     18\n",
       "Andhra Pradesh                              16\n",
       "Kerala                                      16\n",
       "Uttarakhand                                 14\n",
       "Nagaland                                    13\n",
       "Himachal Pradesh                            13\n",
       "Mizoram                                     12\n",
       "Delhi                                       12\n",
       "Meghalaya                                   12\n",
       "Tripura                                      9\n",
       "Sikkim                                       5\n",
       "Puducherry                                   5\n",
       "Dadra and Nagar Haveli and Daman and Diu     5\n",
       "Goa                                          4\n",
       "Andaman and Nicobar Islands                  4\n",
       "Ladakh                                       3\n",
       "Chandigarh                                   2\n",
       "Lakshadweep                                  2\n",
       "State Unassigned                             1\n",
       "Name: State, dtype: int64"
      ]
     },
     "execution_count": 10,
     "metadata": {},
     "output_type": "execute_result"
    }
   ],
   "source": [
    "data['State'].value_counts()"
   ]
  },
  {
   "cell_type": "markdown",
   "metadata": {},
   "source": [
    "### Maximum number of people who tested Covid positive "
   ]
  },
  {
   "cell_type": "code",
   "execution_count": 11,
   "metadata": {},
   "outputs": [
    {
     "data": {
      "text/plain": [
       "239481"
      ]
     },
     "execution_count": 11,
     "metadata": {},
     "output_type": "execute_result"
    }
   ],
   "source": [
    "data['Confirmed'].max()"
   ]
  },
  {
   "cell_type": "markdown",
   "metadata": {},
   "source": [
    "### Maximum number of people who are Covid Active"
   ]
  },
  {
   "cell_type": "code",
   "execution_count": 12,
   "metadata": {},
   "outputs": [
    {
     "data": {
      "text/plain": [
       "80152"
      ]
     },
     "execution_count": 12,
     "metadata": {},
     "output_type": "execute_result"
    }
   ],
   "source": [
    "data['Active'].max()"
   ]
  },
  {
   "cell_type": "markdown",
   "metadata": {},
   "source": [
    "### Maximum number of people who recovered "
   ]
  },
  {
   "cell_type": "code",
   "execution_count": 13,
   "metadata": {},
   "outputs": [
    {
     "data": {
      "text/plain": [
       "191203"
      ]
     },
     "execution_count": 13,
     "metadata": {},
     "output_type": "execute_result"
    }
   ],
   "source": [
    "data['Recovered'].max()"
   ]
  },
  {
   "cell_type": "markdown",
   "metadata": {},
   "source": [
    "### Total Serial Number in data set"
   ]
  },
  {
   "cell_type": "code",
   "execution_count": 14,
   "metadata": {},
   "outputs": [
    {
     "data": {
      "text/plain": [
       "801"
      ]
     },
     "execution_count": 14,
     "metadata": {},
     "output_type": "execute_result"
    }
   ],
   "source": [
    "data['SlNo'].count()"
   ]
  },
  {
   "cell_type": "markdown",
   "metadata": {},
   "source": [
    "### Confirmed cases Distplot"
   ]
  },
  {
   "cell_type": "code",
   "execution_count": 15,
   "metadata": {},
   "outputs": [
    {
     "data": {
      "text/plain": [
       "<matplotlib.axes._subplots.AxesSubplot at 0x24cc38057c8>"
      ]
     },
     "execution_count": 15,
     "metadata": {},
     "output_type": "execute_result"
    },
    {
     "data": {
      "image/png": "[encoded data removed]",
      "text/plain": [
       "<Figure size 432x288 with 1 Axes>"
      ]
     },
     "metadata": {
      "needs_background": "light"
     },
     "output_type": "display_data"
    }
   ],
   "source": [
    "sns.distplot(data['Confirmed'])"
   ]
  },
  {
   "cell_type": "markdown",
   "metadata": {},
   "source": [
    "### Joint plot of Active and Recovery"
   ]
  },
  {
   "cell_type": "code",
   "execution_count": 16,
   "metadata": {},
   "outputs": [
    {
     "data": {
      "text/plain": [
       "<seaborn.axisgrid.JointGrid at 0x24cc3bbf908>"
      ]
     },
     "execution_count": 16,
     "metadata": {},
     "output_type": "execute_result"
    },
    {
     "data": {
      "image/png": "[encoded data removed]",
      "text/plain": [
       "<Figure size 432x432 with 3 Axes>"
      ]
     },
     "metadata": {
      "needs_background": "light"
     },
     "output_type": "display_data"
    }
   ],
   "source": [
    "sns.jointplot(data['Active'], data['Recovered'],kind=\"hex\",bins=3)"
   ]
  },
  {
   "cell_type": "markdown",
   "metadata": {},
   "source": [
    "### Plot for 'Confirmed', 'Active' and'Recovered' data together"
   ]
  },
  {
   "cell_type": "code",
   "execution_count": 17,
   "metadata": {},
   "outputs": [
    {
     "data": {
      "text/plain": [
       "<seaborn.axisgrid.PairGrid at 0x24cc3e255c8>"
      ]
     },
     "execution_count": 17,
     "metadata": {},
     "output_type": "execute_result"
    },
    {
     "data": {
      "image/png": "[encoded data removed]",
      "text/plain": [
       "<Figure size 540x540 with 12 Axes>"
      ]
     },
     "metadata": {
      "needs_background": "light"
     },
     "output_type": "display_data"
    }
   ],
   "source": [
    "sns.pairplot(data[['Confirmed', 'Active', 'Recovered']])"
   ]
  },
  {
   "cell_type": "markdown",
   "metadata": {},
   "source": [
    "### Swarmplot between confirmed and recovery cases"
   ]
  },
  {
   "cell_type": "code",
   "execution_count": 18,
   "metadata": {},
   "outputs": [
    {
     "data": {
      "text/plain": [
       "<matplotlib.axes._subplots.AxesSubplot at 0x24cc434ae88>"
      ]
     },
     "execution_count": 18,
     "metadata": {},
     "output_type": "execute_result"
    },
    {
     "data": {
      "image/png": "[encoded data removed]",
      "text/plain": [
       "<Figure size 1080x360 with 1 Axes>"
      ]
     },
     "metadata": {
      "needs_background": "light"
     },
     "output_type": "display_data"
    }
   ],
   "source": [
    "plt.figure(figsize=(15,5))\n",
    "sns.swarmplot(data['Confirmed'], data['Recovered'])"
   ]
  },
  {
   "cell_type": "markdown",
   "metadata": {},
   "source": [
    "### Stripplot for recovery rate, state wise"
   ]
  },
  {
   "cell_type": "code",
   "execution_count": 19,
   "metadata": {},
   "outputs": [
    {
     "data": {
      "text/plain": [
       "<matplotlib.axes._subplots.AxesSubplot at 0x24cc65e98c8>"
      ]
     },
     "execution_count": 19,
     "metadata": {},
     "output_type": "execute_result"
    },
    {
     "data": {
      "image/png": "[encoded data removed]",
      "text/plain": [
       "<Figure size 1080x576 with 1 Axes>"
      ]
     },
     "metadata": {
      "needs_background": "light"
     },
     "output_type": "display_data"
    }
   ],
   "source": [
    "plt.figure(figsize=(15,8))\n",
    "sns.stripplot(data['State_Code'],data['Recovered'], jitter=True)\n"
   ]
  },
  {
   "cell_type": "markdown",
   "metadata": {},
   "source": [
    "### State with maximum number of counts\n",
    "Utterparadesh has most counts"
   ]
  },
  {
   "cell_type": "code",
   "execution_count": 20,
   "metadata": {},
   "outputs": [
    {
     "data": {
      "text/plain": [
       "<matplotlib.axes._subplots.AxesSubplot at 0x24cc6614988>"
      ]
     },
     "execution_count": 20,
     "metadata": {},
     "output_type": "execute_result"
    },
    {
     "data": {
      "image/png": "[encoded data removed]",
      "text/plain": [
       "<Figure size 1080x576 with 1 Axes>"
      ]
     },
     "metadata": {
      "needs_background": "light"
     },
     "output_type": "display_data"
    }
   ],
   "source": [
    "plt.figure(figsize=(15,8))\n",
    "sns.countplot(data['State_Code'])"
   ]
  },
  {
   "cell_type": "markdown",
   "metadata": {},
   "source": [
    "### Point plot to check Active cases by State code"
   ]
  },
  {
   "cell_type": "code",
   "execution_count": 21,
   "metadata": {},
   "outputs": [
    {
     "data": {
      "text/plain": [
       "<matplotlib.axes._subplots.AxesSubplot at 0x24cc63bfec8>"
      ]
     },
     "execution_count": 21,
     "metadata": {},
     "output_type": "execute_result"
    },
    {
     "data": {
      "image/png": "[encoded data removed]",
      "text/plain": [
       "<Figure size 864x360 with 1 Axes>"
      ]
     },
     "metadata": {
      "needs_background": "light"
     },
     "output_type": "display_data"
    }
   ],
   "source": [
    "plt.figure(figsize=(12,5))\n",
    "sns.pointplot(data['State_Code'], data['Active'])"
   ]
  },
  {
   "cell_type": "markdown",
   "metadata": {},
   "source": [
    "### State Wise maximum,minimum and sum of cases that were Confirmed,Active and Recovered"
   ]
  },
  {
   "cell_type": "code",
   "execution_count": 22,
   "metadata": {},
   "outputs": [
    {
     "data": {
      "text/html": [
       "<div>\n",
       "<style scoped>\n",
       "    .dataframe tbody tr th:only-of-type {\n",
       "        vertical-align: middle;\n",
       "    }\n",
       "\n",
       "    .dataframe tbody tr th {\n",
       "        vertical-align: top;\n",
       "    }\n",
       "\n",
       "    .dataframe thead tr th {\n",
       "        text-align: left;\n",
       "    }\n",
       "\n",
       "    .dataframe thead tr:last-of-type th {\n",
       "        text-align: right;\n",
       "    }\n",
       "</style>\n",
       "<table border=\"1\" class=\"dataframe\">\n",
       "  <thead>\n",
       "    <tr>\n",
       "      <th></th>\n",
       "      <th colspan=\"3\" halign=\"left\">Confirmed</th>\n",
       "      <th colspan=\"3\" halign=\"left\">Active</th>\n",
       "      <th colspan=\"3\" halign=\"left\">Recovered</th>\n",
       "    </tr>\n",
       "    <tr>\n",
       "      <th></th>\n",
       "      <th>max</th>\n",
       "      <th>min</th>\n",
       "      <th>sum</th>\n",
       "      <th>max</th>\n",
       "      <th>min</th>\n",
       "      <th>sum</th>\n",
       "      <th>max</th>\n",
       "      <th>min</th>\n",
       "      <th>sum</th>\n",
       "    </tr>\n",
       "    <tr>\n",
       "      <th>State</th>\n",
       "      <th></th>\n",
       "      <th></th>\n",
       "      <th></th>\n",
       "      <th></th>\n",
       "      <th></th>\n",
       "      <th></th>\n",
       "      <th></th>\n",
       "      <th></th>\n",
       "      <th></th>\n",
       "    </tr>\n",
       "  </thead>\n",
       "  <tbody>\n",
       "    <tr>\n",
       "      <td>Andaman and Nicobar Islands</td>\n",
       "      <td>3522</td>\n",
       "      <td>0</td>\n",
       "      <td>3574</td>\n",
       "      <td>185</td>\n",
       "      <td>0</td>\n",
       "      <td>204</td>\n",
       "      <td>3285</td>\n",
       "      <td>0</td>\n",
       "      <td>3318</td>\n",
       "    </tr>\n",
       "    <tr>\n",
       "      <td>Andhra Pradesh</td>\n",
       "      <td>79643</td>\n",
       "      <td>0</td>\n",
       "      <td>583925</td>\n",
       "      <td>13655</td>\n",
       "      <td>0</td>\n",
       "      <td>92353</td>\n",
       "      <td>67180</td>\n",
       "      <td>0</td>\n",
       "      <td>486531</td>\n",
       "    </tr>\n",
       "    <tr>\n",
       "      <td>Arunachal Pradesh</td>\n",
       "      <td>2450</td>\n",
       "      <td>1</td>\n",
       "      <td>6466</td>\n",
       "      <td>707</td>\n",
       "      <td>0</td>\n",
       "      <td>1795</td>\n",
       "      <td>1739</td>\n",
       "      <td>0</td>\n",
       "      <td>4658</td>\n",
       "    </tr>\n",
       "    <tr>\n",
       "      <td>Assam</td>\n",
       "      <td>49482</td>\n",
       "      <td>1</td>\n",
       "      <td>146575</td>\n",
       "      <td>23613</td>\n",
       "      <td>-22401</td>\n",
       "      <td>29129</td>\n",
       "      <td>71748</td>\n",
       "      <td>1</td>\n",
       "      <td>116900</td>\n",
       "    </tr>\n",
       "    <tr>\n",
       "      <td>Bihar</td>\n",
       "      <td>24374</td>\n",
       "      <td>0</td>\n",
       "      <td>161101</td>\n",
       "      <td>1817</td>\n",
       "      <td>0</td>\n",
       "      <td>13731</td>\n",
       "      <td>22369</td>\n",
       "      <td>0</td>\n",
       "      <td>146533</td>\n",
       "    </tr>\n",
       "    <tr>\n",
       "      <td>Chandigarh</td>\n",
       "      <td>8592</td>\n",
       "      <td>0</td>\n",
       "      <td>8592</td>\n",
       "      <td>2991</td>\n",
       "      <td>0</td>\n",
       "      <td>2991</td>\n",
       "      <td>5502</td>\n",
       "      <td>0</td>\n",
       "      <td>5502</td>\n",
       "    </tr>\n",
       "    <tr>\n",
       "      <td>Chhattisgarh</td>\n",
       "      <td>23621</td>\n",
       "      <td>0</td>\n",
       "      <td>70777</td>\n",
       "      <td>11972</td>\n",
       "      <td>0</td>\n",
       "      <td>35951</td>\n",
       "      <td>11371</td>\n",
       "      <td>0</td>\n",
       "      <td>34238</td>\n",
       "    </tr>\n",
       "    <tr>\n",
       "      <td>Dadra and Nagar Haveli and Daman and Diu</td>\n",
       "      <td>1345</td>\n",
       "      <td>0</td>\n",
       "      <td>2784</td>\n",
       "      <td>141</td>\n",
       "      <td>0</td>\n",
       "      <td>222</td>\n",
       "      <td>1198</td>\n",
       "      <td>0</td>\n",
       "      <td>2531</td>\n",
       "    </tr>\n",
       "    <tr>\n",
       "      <td>Delhi</td>\n",
       "      <td>225008</td>\n",
       "      <td>25</td>\n",
       "      <td>225796</td>\n",
       "      <td>29000</td>\n",
       "      <td>25</td>\n",
       "      <td>29787</td>\n",
       "      <td>191203</td>\n",
       "      <td>0</td>\n",
       "      <td>191203</td>\n",
       "    </tr>\n",
       "    <tr>\n",
       "      <td>Goa</td>\n",
       "      <td>19132</td>\n",
       "      <td>200</td>\n",
       "      <td>25511</td>\n",
       "      <td>1978</td>\n",
       "      <td>9</td>\n",
       "      <td>5102</td>\n",
       "      <td>17533</td>\n",
       "      <td>190</td>\n",
       "      <td>20094</td>\n",
       "    </tr>\n",
       "    <tr>\n",
       "      <td>Gujarat</td>\n",
       "      <td>34072</td>\n",
       "      <td>0</td>\n",
       "      <td>116345</td>\n",
       "      <td>4177</td>\n",
       "      <td>0</td>\n",
       "      <td>16291</td>\n",
       "      <td>28130</td>\n",
       "      <td>0</td>\n",
       "      <td>96809</td>\n",
       "    </tr>\n",
       "    <tr>\n",
       "      <td>Haryana</td>\n",
       "      <td>16409</td>\n",
       "      <td>0</td>\n",
       "      <td>98622</td>\n",
       "      <td>2438</td>\n",
       "      <td>0</td>\n",
       "      <td>20430</td>\n",
       "      <td>14441</td>\n",
       "      <td>0</td>\n",
       "      <td>77166</td>\n",
       "    </tr>\n",
       "    <tr>\n",
       "      <td>Himachal Pradesh</td>\n",
       "      <td>2359</td>\n",
       "      <td>0</td>\n",
       "      <td>10335</td>\n",
       "      <td>906</td>\n",
       "      <td>-3</td>\n",
       "      <td>3802</td>\n",
       "      <td>1422</td>\n",
       "      <td>0</td>\n",
       "      <td>6417</td>\n",
       "    </tr>\n",
       "    <tr>\n",
       "      <td>Jammu and Kashmir</td>\n",
       "      <td>11942</td>\n",
       "      <td>0</td>\n",
       "      <td>56654</td>\n",
       "      <td>6017</td>\n",
       "      <td>0</td>\n",
       "      <td>18678</td>\n",
       "      <td>9784</td>\n",
       "      <td>0</td>\n",
       "      <td>37062</td>\n",
       "    </tr>\n",
       "    <tr>\n",
       "      <td>Jharkhand</td>\n",
       "      <td>13912</td>\n",
       "      <td>0</td>\n",
       "      <td>64439</td>\n",
       "      <td>3523</td>\n",
       "      <td>0</td>\n",
       "      <td>14118</td>\n",
       "      <td>10297</td>\n",
       "      <td>0</td>\n",
       "      <td>49750</td>\n",
       "    </tr>\n",
       "    <tr>\n",
       "      <td>Karnataka</td>\n",
       "      <td>176712</td>\n",
       "      <td>0</td>\n",
       "      <td>475265</td>\n",
       "      <td>39681</td>\n",
       "      <td>0</td>\n",
       "      <td>98536</td>\n",
       "      <td>134516</td>\n",
       "      <td>0</td>\n",
       "      <td>369229</td>\n",
       "    </tr>\n",
       "    <tr>\n",
       "      <td>Kerala</td>\n",
       "      <td>22278</td>\n",
       "      <td>0</td>\n",
       "      <td>114034</td>\n",
       "      <td>5423</td>\n",
       "      <td>0</td>\n",
       "      <td>31160</td>\n",
       "      <td>16675</td>\n",
       "      <td>0</td>\n",
       "      <td>82341</td>\n",
       "    </tr>\n",
       "    <tr>\n",
       "      <td>Ladakh</td>\n",
       "      <td>1972</td>\n",
       "      <td>0</td>\n",
       "      <td>3499</td>\n",
       "      <td>502</td>\n",
       "      <td>0</td>\n",
       "      <td>938</td>\n",
       "      <td>1452</td>\n",
       "      <td>0</td>\n",
       "      <td>2517</td>\n",
       "    </tr>\n",
       "    <tr>\n",
       "      <td>Lakshadweep</td>\n",
       "      <td>0</td>\n",
       "      <td>0</td>\n",
       "      <td>0</td>\n",
       "      <td>0</td>\n",
       "      <td>0</td>\n",
       "      <td>0</td>\n",
       "      <td>0</td>\n",
       "      <td>0</td>\n",
       "      <td>0</td>\n",
       "    </tr>\n",
       "    <tr>\n",
       "      <td>Madhya Pradesh</td>\n",
       "      <td>17547</td>\n",
       "      <td>0</td>\n",
       "      <td>93053</td>\n",
       "      <td>5298</td>\n",
       "      <td>0</td>\n",
       "      <td>21620</td>\n",
       "      <td>11782</td>\n",
       "      <td>0</td>\n",
       "      <td>69613</td>\n",
       "    </tr>\n",
       "    <tr>\n",
       "      <td>Maharashtra</td>\n",
       "      <td>239481</td>\n",
       "      <td>0</td>\n",
       "      <td>1097856</td>\n",
       "      <td>80152</td>\n",
       "      <td>0</td>\n",
       "      <td>291797</td>\n",
       "      <td>154441</td>\n",
       "      <td>0</td>\n",
       "      <td>775273</td>\n",
       "    </tr>\n",
       "    <tr>\n",
       "      <td>Manipur</td>\n",
       "      <td>2152</td>\n",
       "      <td>33</td>\n",
       "      <td>8210</td>\n",
       "      <td>2091</td>\n",
       "      <td>-4522</td>\n",
       "      <td>1745</td>\n",
       "      <td>4731</td>\n",
       "      <td>2</td>\n",
       "      <td>6418</td>\n",
       "    </tr>\n",
       "    <tr>\n",
       "      <td>Meghalaya</td>\n",
       "      <td>2534</td>\n",
       "      <td>0</td>\n",
       "      <td>4037</td>\n",
       "      <td>1187</td>\n",
       "      <td>0</td>\n",
       "      <td>1818</td>\n",
       "      <td>1323</td>\n",
       "      <td>0</td>\n",
       "      <td>2190</td>\n",
       "    </tr>\n",
       "    <tr>\n",
       "      <td>Mizoram</td>\n",
       "      <td>983</td>\n",
       "      <td>0</td>\n",
       "      <td>1480</td>\n",
       "      <td>468</td>\n",
       "      <td>0</td>\n",
       "      <td>558</td>\n",
       "      <td>515</td>\n",
       "      <td>0</td>\n",
       "      <td>922</td>\n",
       "    </tr>\n",
       "    <tr>\n",
       "      <td>Nagaland</td>\n",
       "      <td>2572</td>\n",
       "      <td>0</td>\n",
       "      <td>5229</td>\n",
       "      <td>782</td>\n",
       "      <td>0</td>\n",
       "      <td>1269</td>\n",
       "      <td>1767</td>\n",
       "      <td>0</td>\n",
       "      <td>3927</td>\n",
       "    </tr>\n",
       "    <tr>\n",
       "      <td>Odisha</td>\n",
       "      <td>28147</td>\n",
       "      <td>0</td>\n",
       "      <td>162920</td>\n",
       "      <td>7128</td>\n",
       "      <td>0</td>\n",
       "      <td>36473</td>\n",
       "      <td>20913</td>\n",
       "      <td>0</td>\n",
       "      <td>125738</td>\n",
       "    </tr>\n",
       "    <tr>\n",
       "      <td>Puducherry</td>\n",
       "      <td>17710</td>\n",
       "      <td>0</td>\n",
       "      <td>20601</td>\n",
       "      <td>3896</td>\n",
       "      <td>0</td>\n",
       "      <td>4674</td>\n",
       "      <td>13465</td>\n",
       "      <td>0</td>\n",
       "      <td>15522</td>\n",
       "    </tr>\n",
       "    <tr>\n",
       "      <td>Punjab</td>\n",
       "      <td>14176</td>\n",
       "      <td>0</td>\n",
       "      <td>84482</td>\n",
       "      <td>2643</td>\n",
       "      <td>0</td>\n",
       "      <td>21154</td>\n",
       "      <td>11990</td>\n",
       "      <td>0</td>\n",
       "      <td>60814</td>\n",
       "    </tr>\n",
       "    <tr>\n",
       "      <td>Rajasthan</td>\n",
       "      <td>15672</td>\n",
       "      <td>0</td>\n",
       "      <td>105898</td>\n",
       "      <td>5671</td>\n",
       "      <td>0</td>\n",
       "      <td>16761</td>\n",
       "      <td>13200</td>\n",
       "      <td>0</td>\n",
       "      <td>87873</td>\n",
       "    </tr>\n",
       "    <tr>\n",
       "      <td>Sikkim</td>\n",
       "      <td>1446</td>\n",
       "      <td>1</td>\n",
       "      <td>2173</td>\n",
       "      <td>402</td>\n",
       "      <td>-348</td>\n",
       "      <td>463</td>\n",
       "      <td>1106</td>\n",
       "      <td>1</td>\n",
       "      <td>1690</td>\n",
       "    </tr>\n",
       "    <tr>\n",
       "      <td>State Unassigned</td>\n",
       "      <td>0</td>\n",
       "      <td>0</td>\n",
       "      <td>0</td>\n",
       "      <td>0</td>\n",
       "      <td>0</td>\n",
       "      <td>0</td>\n",
       "      <td>0</td>\n",
       "      <td>0</td>\n",
       "      <td>0</td>\n",
       "    </tr>\n",
       "    <tr>\n",
       "      <td>Tamil Nadu</td>\n",
       "      <td>150572</td>\n",
       "      <td>0</td>\n",
       "      <td>514208</td>\n",
       "      <td>9886</td>\n",
       "      <td>-3</td>\n",
       "      <td>46806</td>\n",
       "      <td>137685</td>\n",
       "      <td>0</td>\n",
       "      <td>458900</td>\n",
       "    </tr>\n",
       "    <tr>\n",
       "      <td>Telangana</td>\n",
       "      <td>56661</td>\n",
       "      <td>33</td>\n",
       "      <td>162844</td>\n",
       "      <td>56333</td>\n",
       "      <td>-131405</td>\n",
       "      <td>30401</td>\n",
       "      <td>130896</td>\n",
       "      <td>0</td>\n",
       "      <td>131447</td>\n",
       "    </tr>\n",
       "    <tr>\n",
       "      <td>Tripura</td>\n",
       "      <td>7458</td>\n",
       "      <td>0</td>\n",
       "      <td>20169</td>\n",
       "      <td>3100</td>\n",
       "      <td>0</td>\n",
       "      <td>7495</td>\n",
       "      <td>4229</td>\n",
       "      <td>0</td>\n",
       "      <td>12435</td>\n",
       "    </tr>\n",
       "    <tr>\n",
       "      <td>Uttar Pradesh</td>\n",
       "      <td>41091</td>\n",
       "      <td>0</td>\n",
       "      <td>324036</td>\n",
       "      <td>9711</td>\n",
       "      <td>0</td>\n",
       "      <td>67335</td>\n",
       "      <td>30841</td>\n",
       "      <td>0</td>\n",
       "      <td>252097</td>\n",
       "    </tr>\n",
       "    <tr>\n",
       "      <td>Uttarakhand</td>\n",
       "      <td>8391</td>\n",
       "      <td>0</td>\n",
       "      <td>34407</td>\n",
       "      <td>3477</td>\n",
       "      <td>0</td>\n",
       "      <td>10739</td>\n",
       "      <td>5060</td>\n",
       "      <td>0</td>\n",
       "      <td>23085</td>\n",
       "    </tr>\n",
       "    <tr>\n",
       "      <td>West Bengal</td>\n",
       "      <td>47628</td>\n",
       "      <td>0</td>\n",
       "      <td>209146</td>\n",
       "      <td>4400</td>\n",
       "      <td>0</td>\n",
       "      <td>23942</td>\n",
       "      <td>41819</td>\n",
       "      <td>0</td>\n",
       "      <td>181142</td>\n",
       "    </tr>\n",
       "  </tbody>\n",
       "</table>\n",
       "</div>"
      ],
      "text/plain": [
       "                                         Confirmed               Active  \\\n",
       "                                               max  min      sum    max   \n",
       "State                                                                     \n",
       "Andaman and Nicobar Islands                   3522    0     3574    185   \n",
       "Andhra Pradesh                               79643    0   583925  13655   \n",
       "Arunachal Pradesh                             2450    1     6466    707   \n",
       "Assam                                        49482    1   146575  23613   \n",
       "Bihar                                        24374    0   161101   1817   \n",
       "Chandigarh                                    8592    0     8592   2991   \n",
       "Chhattisgarh                                 23621    0    70777  11972   \n",
       "Dadra and Nagar Haveli and Daman and Diu      1345    0     2784    141   \n",
       "Delhi                                       225008   25   225796  29000   \n",
       "Goa                                          19132  200    25511   1978   \n",
       "Gujarat                                      34072    0   116345   4177   \n",
       "Haryana                                      16409    0    98622   2438   \n",
       "Himachal Pradesh                              2359    0    10335    906   \n",
       "Jammu and Kashmir                            11942    0    56654   6017   \n",
       "Jharkhand                                    13912    0    64439   3523   \n",
       "Karnataka                                   176712    0   475265  39681   \n",
       "Kerala                                       22278    0   114034   5423   \n",
       "Ladakh                                        1972    0     3499    502   \n",
       "Lakshadweep                                      0    0        0      0   \n",
       "Madhya Pradesh                               17547    0    93053   5298   \n",
       "Maharashtra                                 239481    0  1097856  80152   \n",
       "Manipur                                       2152   33     8210   2091   \n",
       "Meghalaya                                     2534    0     4037   1187   \n",
       "Mizoram                                        983    0     1480    468   \n",
       "Nagaland                                      2572    0     5229    782   \n",
       "Odisha                                       28147    0   162920   7128   \n",
       "Puducherry                                   17710    0    20601   3896   \n",
       "Punjab                                       14176    0    84482   2643   \n",
       "Rajasthan                                    15672    0   105898   5671   \n",
       "Sikkim                                        1446    1     2173    402   \n",
       "State Unassigned                                 0    0        0      0   \n",
       "Tamil Nadu                                  150572    0   514208   9886   \n",
       "Telangana                                    56661   33   162844  56333   \n",
       "Tripura                                       7458    0    20169   3100   \n",
       "Uttar Pradesh                                41091    0   324036   9711   \n",
       "Uttarakhand                                   8391    0    34407   3477   \n",
       "West Bengal                                  47628    0   209146   4400   \n",
       "\n",
       "                                                         Recovered       \\\n",
       "                                             min     sum       max  min   \n",
       "State                                                                     \n",
       "Andaman and Nicobar Islands                    0     204      3285    0   \n",
       "Andhra Pradesh                                 0   92353     67180    0   \n",
       "Arunachal Pradesh                              0    1795      1739    0   \n",
       "Assam                                     -22401   29129     71748    1   \n",
       "Bihar                                          0   13731     22369    0   \n",
       "Chandigarh                                     0    2991      5502    0   \n",
       "Chhattisgarh                                   0   35951     11371    0   \n",
       "Dadra and Nagar Haveli and Daman and Diu       0     222      1198    0   \n",
       "Delhi                                         25   29787    191203    0   \n",
       "Goa                                            9    5102     17533  190   \n",
       "Gujarat                                        0   16291     28130    0   \n",
       "Haryana                                        0   20430     14441    0   \n",
       "Himachal Pradesh                              -3    3802      1422    0   \n",
       "Jammu and Kashmir                              0   18678      9784    0   \n",
       "Jharkhand                                      0   14118     10297    0   \n",
       "Karnataka                                      0   98536    134516    0   \n",
       "Kerala                                         0   31160     16675    0   \n",
       "Ladakh                                         0     938      1452    0   \n",
       "Lakshadweep                                    0       0         0    0   \n",
       "Madhya Pradesh                                 0   21620     11782    0   \n",
       "Maharashtra                                    0  291797    154441    0   \n",
       "Manipur                                    -4522    1745      4731    2   \n",
       "Meghalaya                                      0    1818      1323    0   \n",
       "Mizoram                                        0     558       515    0   \n",
       "Nagaland                                       0    1269      1767    0   \n",
       "Odisha                                         0   36473     20913    0   \n",
       "Puducherry                                     0    4674     13465    0   \n",
       "Punjab                                         0   21154     11990    0   \n",
       "Rajasthan                                      0   16761     13200    0   \n",
       "Sikkim                                      -348     463      1106    1   \n",
       "State Unassigned                               0       0         0    0   \n",
       "Tamil Nadu                                    -3   46806    137685    0   \n",
       "Telangana                                -131405   30401    130896    0   \n",
       "Tripura                                        0    7495      4229    0   \n",
       "Uttar Pradesh                                  0   67335     30841    0   \n",
       "Uttarakhand                                    0   10739      5060    0   \n",
       "West Bengal                                    0   23942     41819    0   \n",
       "\n",
       "                                                  \n",
       "                                             sum  \n",
       "State                                             \n",
       "Andaman and Nicobar Islands                 3318  \n",
       "Andhra Pradesh                            486531  \n",
       "Arunachal Pradesh                           4658  \n",
       "Assam                                     116900  \n",
       "Bihar                                     146533  \n",
       "Chandigarh                                  5502  \n",
       "Chhattisgarh                               34238  \n",
       "Dadra and Nagar Haveli and Daman and Diu    2531  \n",
       "Delhi                                     191203  \n",
       "Goa                                        20094  \n",
       "Gujarat                                    96809  \n",
       "Haryana                                    77166  \n",
       "Himachal Pradesh                            6417  \n",
       "Jammu and Kashmir                          37062  \n",
       "Jharkhand                                  49750  \n",
       "Karnataka                                 369229  \n",
       "Kerala                                     82341  \n",
       "Ladakh                                      2517  \n",
       "Lakshadweep                                    0  \n",
       "Madhya Pradesh                             69613  \n",
       "Maharashtra                               775273  \n",
       "Manipur                                     6418  \n",
       "Meghalaya                                   2190  \n",
       "Mizoram                                      922  \n",
       "Nagaland                                    3927  \n",
       "Odisha                                    125738  \n",
       "Puducherry                                 15522  \n",
       "Punjab                                     60814  \n",
       "Rajasthan                                  87873  \n",
       "Sikkim                                      1690  \n",
       "State Unassigned                               0  \n",
       "Tamil Nadu                                458900  \n",
       "Telangana                                 131447  \n",
       "Tripura                                    12435  \n",
       "Uttar Pradesh                             252097  \n",
       "Uttarakhand                                23085  \n",
       "West Bengal                               181142  "
      ]
     },
     "execution_count": 22,
     "metadata": {},
     "output_type": "execute_result"
    }
   ],
   "source": [
    "data.groupby('State').agg({'Confirmed':[max,min,sum],'Active':[max,min,sum],'Recovered':[max,min,sum]})"
   ]
  },
  {
   "cell_type": "markdown",
   "metadata": {},
   "source": [
    "### State wise plot for People deceased and recovered"
   ]
  },
  {
   "cell_type": "code",
   "execution_count": 23,
   "metadata": {},
   "outputs": [
    {
     "data": {
      "text/plain": [
       "<seaborn.axisgrid.FacetGrid at 0x24cc67eba48>"
      ]
     },
     "execution_count": 23,
     "metadata": {},
     "output_type": "execute_result"
    },
    {
     "data": {
      "text/plain": [
       "<Figure size 1080x576 with 0 Axes>"
      ]
     },
     "metadata": {},
     "output_type": "display_data"
    },
    {
     "data": {
      "image/png": "[encoded data removed]",
      "text/plain": [
       "<Figure size 422.55x360 with 1 Axes>"
      ]
     },
     "metadata": {
      "needs_background": "light"
     },
     "output_type": "display_data"
    }
   ],
   "source": [
    "plt.figure(figsize=(15,8))\n",
    "sns.lmplot(x=\"Deceased\", y=\"Recovered\",hue=\"State_Code\", data=data)"
   ]
  },
  {
   "cell_type": "markdown",
   "metadata": {},
   "source": [
    "### All the states with Confirmed cases above 25000"
   ]
  },
  {
   "cell_type": "code",
   "execution_count": 24,
   "metadata": {},
   "outputs": [
    {
     "data": {
      "text/plain": [
       "array(['Andhra Pradesh', 'Assam', 'Gujarat', 'Karnataka', 'Maharashtra',\n",
       "       'Odisha', 'Telangana', 'Tamil Nadu', 'Uttar Pradesh',\n",
       "       'West Bengal', 'Delhi'], dtype=object)"
      ]
     },
     "execution_count": 24,
     "metadata": {},
     "output_type": "execute_result"
    }
   ],
   "source": [
    "data[data['Confirmed']>25000]['State'].unique()"
   ]
  },
  {
   "cell_type": "markdown",
   "metadata": {},
   "source": [
    "### Number of states where cases confirmed and recovered is greater then 35000"
   ]
  },
  {
   "cell_type": "code",
   "execution_count": 25,
   "metadata": {},
   "outputs": [
    {
     "data": {
      "text/plain": [
       "18"
      ]
     },
     "execution_count": 25,
     "metadata": {},
     "output_type": "execute_result"
    }
   ],
   "source": [
    "data[(data['Confirmed']>35000)&(data['Recovered']>35000)].count()['State']"
   ]
  },
  {
   "cell_type": "markdown",
   "metadata": {},
   "source": [
    "### State with Maximum Recovery cases"
   ]
  },
  {
   "cell_type": "code",
   "execution_count": 26,
   "metadata": {},
   "outputs": [
    {
     "data": {
      "text/plain": [
       "773    Delhi\n",
       "Name: State, dtype: object"
      ]
     },
     "execution_count": 26,
     "metadata": {},
     "output_type": "execute_result"
    }
   ],
   "source": [
    "data[data['Recovered']==data['Recovered'].max()]['State']"
   ]
  },
  {
   "cell_type": "markdown",
   "metadata": {},
   "source": [
    "### State with Maximum Active cases"
   ]
  },
  {
   "cell_type": "code",
   "execution_count": 27,
   "metadata": {},
   "outputs": [
    {
     "data": {
      "text/plain": [
       "356    Maharashtra\n",
       "Name: State, dtype: object"
      ]
     },
     "execution_count": 27,
     "metadata": {},
     "output_type": "execute_result"
    }
   ],
   "source": [
    "data[data['Active']==data['Active'].max()]['State']"
   ]
  },
  {
   "cell_type": "markdown",
   "metadata": {},
   "source": [
    "### Bar plot for covid case migration in different state\n",
    "Maharastra has maximum migration cases"
   ]
  },
  {
   "cell_type": "code",
   "execution_count": 28,
   "metadata": {},
   "outputs": [
    {
     "data": {
      "text/plain": [
       "<BarContainer object of 801 artists>"
      ]
     },
     "execution_count": 28,
     "metadata": {},
     "output_type": "execute_result"
    },
    {
     "data": {
      "image/png": "[encoded data removed]",
      "text/plain": [
       "<Figure size 1080x576 with 1 Axes>"
      ]
     },
     "metadata": {
      "needs_background": "light"
     },
     "output_type": "display_data"
    }
   ],
   "source": [
    "plt.figure(figsize=(15,8))\n",
    "x=data['State_Code']\n",
    "y=data['Migrated_Other']\n",
    "plt.bar(x,y)"
   ]
  },
  {
   "cell_type": "markdown",
   "metadata": {},
   "source": [
    "### Histogram plot for Active cases"
   ]
  },
  {
   "cell_type": "code",
   "execution_count": 29,
   "metadata": {},
   "outputs": [
    {
     "data": {
      "text/plain": [
       "<Figure size 360x360 with 0 Axes>"
      ]
     },
     "metadata": {},
     "output_type": "display_data"
    },
    {
     "data": {
      "image/png": "[encoded data removed]",
      "text/plain": [
       "<Figure size 432x288 with 1 Axes>"
      ]
     },
     "metadata": {
      "needs_background": "light"
     },
     "output_type": "display_data"
    }
   ],
   "source": [
    "plt.figure(figsize=(5,5))\n",
    "fig, ax= plt.subplots()\n",
    "ax.hist(data['Active'],bins=100)\n",
    "plt.show()"
   ]
  },
  {
   "cell_type": "markdown",
   "metadata": {},
   "source": [
    "### Different relationships between Active,Recovered and Confirmed cases"
   ]
  },
  {
   "cell_type": "code",
   "execution_count": 30,
   "metadata": {},
   "outputs": [
    {
     "data": {
      "image/png": "[encoded data removed]",
      "text/plain": [
       "<Figure size 432x288 with 1 Axes>"
      ]
     },
     "metadata": {
      "needs_background": "light"
     },
     "output_type": "display_data"
    }
   ],
   "source": [
    "fig, ax= plt.subplots()\n",
    "s1=data['Active'].head(150)\n",
    "s2=data['Recovered'].head(150)\n",
    "s3=data['Confirmed'].head(150)\n",
    "ax.scatter(s1,s1, color='y')\n",
    "ax.scatter(s1,s2, color='r')\n",
    "ax.scatter(s2,s3, color='g')\n",
    "ax.scatter(s3,s1, color='b')\n",
    "sns.set(rc={'figure.figsize':(5.27,5.27)})\n"
   ]
  },
  {
   "cell_type": "markdown",
   "metadata": {},
   "source": [
    "### Correlation of whole dataset"
   ]
  },
  {
   "cell_type": "code",
   "execution_count": 31,
   "metadata": {},
   "outputs": [
    {
     "data": {
      "text/html": [
       "<div>\n",
       "<style scoped>\n",
       "    .dataframe tbody tr th:only-of-type {\n",
       "        vertical-align: middle;\n",
       "    }\n",
       "\n",
       "    .dataframe tbody tr th {\n",
       "        vertical-align: top;\n",
       "    }\n",
       "\n",
       "    .dataframe thead th {\n",
       "        text-align: right;\n",
       "    }\n",
       "</style>\n",
       "<table border=\"1\" class=\"dataframe\">\n",
       "  <thead>\n",
       "    <tr style=\"text-align: right;\">\n",
       "      <th></th>\n",
       "      <th>SlNo</th>\n",
       "      <th>Confirmed</th>\n",
       "      <th>Active</th>\n",
       "      <th>Recovered</th>\n",
       "      <th>Deceased</th>\n",
       "      <th>Migrated_Other</th>\n",
       "      <th>Delta_Confirmed</th>\n",
       "      <th>Delta_Active</th>\n",
       "      <th>Delta_Recovered</th>\n",
       "      <th>Delta_Deceased</th>\n",
       "      <th>Last_Updated</th>\n",
       "    </tr>\n",
       "  </thead>\n",
       "  <tbody>\n",
       "    <tr>\n",
       "      <td>SlNo</td>\n",
       "      <td>1.000000</td>\n",
       "      <td>0.020135</td>\n",
       "      <td>-0.038407</td>\n",
       "      <td>0.039842</td>\n",
       "      <td>0.044494</td>\n",
       "      <td>0.018220</td>\n",
       "      <td>0.107011</td>\n",
       "      <td>0.092294</td>\n",
       "      <td>0.068822</td>\n",
       "      <td>0.081270</td>\n",
       "      <td>NaN</td>\n",
       "    </tr>\n",
       "    <tr>\n",
       "      <td>Confirmed</td>\n",
       "      <td>0.020135</td>\n",
       "      <td>1.000000</td>\n",
       "      <td>0.572924</td>\n",
       "      <td>0.934575</td>\n",
       "      <td>0.887025</td>\n",
       "      <td>0.319887</td>\n",
       "      <td>0.044341</td>\n",
       "      <td>0.045910</td>\n",
       "      <td>-0.005848</td>\n",
       "      <td>0.002359</td>\n",
       "      <td>NaN</td>\n",
       "    </tr>\n",
       "    <tr>\n",
       "      <td>Active</td>\n",
       "      <td>-0.038407</td>\n",
       "      <td>0.572924</td>\n",
       "      <td>1.000000</td>\n",
       "      <td>0.244088</td>\n",
       "      <td>0.433118</td>\n",
       "      <td>0.159523</td>\n",
       "      <td>0.131764</td>\n",
       "      <td>0.131267</td>\n",
       "      <td>0.006155</td>\n",
       "      <td>0.011077</td>\n",
       "      <td>NaN</td>\n",
       "    </tr>\n",
       "    <tr>\n",
       "      <td>Recovered</td>\n",
       "      <td>0.039842</td>\n",
       "      <td>0.934575</td>\n",
       "      <td>0.244088</td>\n",
       "      <td>1.000000</td>\n",
       "      <td>0.855094</td>\n",
       "      <td>0.298494</td>\n",
       "      <td>-0.002880</td>\n",
       "      <td>-0.000786</td>\n",
       "      <td>-0.009645</td>\n",
       "      <td>-0.001554</td>\n",
       "      <td>NaN</td>\n",
       "    </tr>\n",
       "    <tr>\n",
       "      <td>Deceased</td>\n",
       "      <td>0.044494</td>\n",
       "      <td>0.887025</td>\n",
       "      <td>0.433118</td>\n",
       "      <td>0.855094</td>\n",
       "      <td>1.000000</td>\n",
       "      <td>0.617739</td>\n",
       "      <td>-0.032003</td>\n",
       "      <td>-0.031021</td>\n",
       "      <td>-0.005154</td>\n",
       "      <td>-0.014456</td>\n",
       "      <td>NaN</td>\n",
       "    </tr>\n",
       "    <tr>\n",
       "      <td>Migrated_Other</td>\n",
       "      <td>0.018220</td>\n",
       "      <td>0.319887</td>\n",
       "      <td>0.159523</td>\n",
       "      <td>0.298494</td>\n",
       "      <td>0.617739</td>\n",
       "      <td>1.000000</td>\n",
       "      <td>-0.008736</td>\n",
       "      <td>-0.014535</td>\n",
       "      <td>0.026075</td>\n",
       "      <td>0.009037</td>\n",
       "      <td>NaN</td>\n",
       "    </tr>\n",
       "    <tr>\n",
       "      <td>Delta_Confirmed</td>\n",
       "      <td>0.107011</td>\n",
       "      <td>0.044341</td>\n",
       "      <td>0.131764</td>\n",
       "      <td>-0.002880</td>\n",
       "      <td>-0.032003</td>\n",
       "      <td>-0.008736</td>\n",
       "      <td>1.000000</td>\n",
       "      <td>0.975711</td>\n",
       "      <td>0.132040</td>\n",
       "      <td>0.441933</td>\n",
       "      <td>NaN</td>\n",
       "    </tr>\n",
       "    <tr>\n",
       "      <td>Delta_Active</td>\n",
       "      <td>0.092294</td>\n",
       "      <td>0.045910</td>\n",
       "      <td>0.131267</td>\n",
       "      <td>-0.000786</td>\n",
       "      <td>-0.031021</td>\n",
       "      <td>-0.014535</td>\n",
       "      <td>0.975711</td>\n",
       "      <td>1.000000</td>\n",
       "      <td>-0.088276</td>\n",
       "      <td>0.317630</td>\n",
       "      <td>NaN</td>\n",
       "    </tr>\n",
       "    <tr>\n",
       "      <td>Delta_Recovered</td>\n",
       "      <td>0.068822</td>\n",
       "      <td>-0.005848</td>\n",
       "      <td>0.006155</td>\n",
       "      <td>-0.009645</td>\n",
       "      <td>-0.005154</td>\n",
       "      <td>0.026075</td>\n",
       "      <td>0.132040</td>\n",
       "      <td>-0.088276</td>\n",
       "      <td>1.000000</td>\n",
       "      <td>0.559180</td>\n",
       "      <td>NaN</td>\n",
       "    </tr>\n",
       "    <tr>\n",
       "      <td>Delta_Deceased</td>\n",
       "      <td>0.081270</td>\n",
       "      <td>0.002359</td>\n",
       "      <td>0.011077</td>\n",
       "      <td>-0.001554</td>\n",
       "      <td>-0.014456</td>\n",
       "      <td>0.009037</td>\n",
       "      <td>0.441933</td>\n",
       "      <td>0.317630</td>\n",
       "      <td>0.559180</td>\n",
       "      <td>1.000000</td>\n",
       "      <td>NaN</td>\n",
       "    </tr>\n",
       "    <tr>\n",
       "      <td>Last_Updated</td>\n",
       "      <td>NaN</td>\n",
       "      <td>NaN</td>\n",
       "      <td>NaN</td>\n",
       "      <td>NaN</td>\n",
       "      <td>NaN</td>\n",
       "      <td>NaN</td>\n",
       "      <td>NaN</td>\n",
       "      <td>NaN</td>\n",
       "      <td>NaN</td>\n",
       "      <td>NaN</td>\n",
       "      <td>NaN</td>\n",
       "    </tr>\n",
       "  </tbody>\n",
       "</table>\n",
       "</div>"
      ],
      "text/plain": [
       "                     SlNo  Confirmed    Active  Recovered  Deceased  \\\n",
       "SlNo             1.000000   0.020135 -0.038407   0.039842  0.044494   \n",
       "Confirmed        0.020135   1.000000  0.572924   0.934575  0.887025   \n",
       "Active          -0.038407   0.572924  1.000000   0.244088  0.433118   \n",
       "Recovered        0.039842   0.934575  0.244088   1.000000  0.855094   \n",
       "Deceased         0.044494   0.887025  0.433118   0.855094  1.000000   \n",
       "Migrated_Other   0.018220   0.319887  0.159523   0.298494  0.617739   \n",
       "Delta_Confirmed  0.107011   0.044341  0.131764  -0.002880 -0.032003   \n",
       "Delta_Active     0.092294   0.045910  0.131267  -0.000786 -0.031021   \n",
       "Delta_Recovered  0.068822  -0.005848  0.006155  -0.009645 -0.005154   \n",
       "Delta_Deceased   0.081270   0.002359  0.011077  -0.001554 -0.014456   \n",
       "Last_Updated          NaN        NaN       NaN        NaN       NaN   \n",
       "\n",
       "                 Migrated_Other  Delta_Confirmed  Delta_Active  \\\n",
       "SlNo                   0.018220         0.107011      0.092294   \n",
       "Confirmed              0.319887         0.044341      0.045910   \n",
       "Active                 0.159523         0.131764      0.131267   \n",
       "Recovered              0.298494        -0.002880     -0.000786   \n",
       "Deceased               0.617739        -0.032003     -0.031021   \n",
       "Migrated_Other         1.000000        -0.008736     -0.014535   \n",
       "Delta_Confirmed       -0.008736         1.000000      0.975711   \n",
       "Delta_Active          -0.014535         0.975711      1.000000   \n",
       "Delta_Recovered        0.026075         0.132040     -0.088276   \n",
       "Delta_Deceased         0.009037         0.441933      0.317630   \n",
       "Last_Updated                NaN              NaN           NaN   \n",
       "\n",
       "                 Delta_Recovered  Delta_Deceased  Last_Updated  \n",
       "SlNo                    0.068822        0.081270           NaN  \n",
       "Confirmed              -0.005848        0.002359           NaN  \n",
       "Active                  0.006155        0.011077           NaN  \n",
       "Recovered              -0.009645       -0.001554           NaN  \n",
       "Deceased               -0.005154       -0.014456           NaN  \n",
       "Migrated_Other          0.026075        0.009037           NaN  \n",
       "Delta_Confirmed         0.132040        0.441933           NaN  \n",
       "Delta_Active           -0.088276        0.317630           NaN  \n",
       "Delta_Recovered         1.000000        0.559180           NaN  \n",
       "Delta_Deceased          0.559180        1.000000           NaN  \n",
       "Last_Updated                 NaN             NaN           NaN  "
      ]
     },
     "execution_count": 31,
     "metadata": {},
     "output_type": "execute_result"
    }
   ],
   "source": [
    "data.corr()"
   ]
  },
  {
   "cell_type": "code",
   "execution_count": 32,
   "metadata": {},
   "outputs": [
    {
     "data": {
      "text/plain": [
       "<matplotlib.axes._subplots.AxesSubplot at 0x24cc781e988>"
      ]
     },
     "execution_count": 32,
     "metadata": {},
     "output_type": "execute_result"
    },
    {
     "data": {
      "image/png": "[encoded data removed]",
      "text/plain": [
       "<Figure size 811.44x595.44 with 2 Axes>"
      ]
     },
     "metadata": {},
     "output_type": "display_data"
    }
   ],
   "source": [
    "sns.set(rc={'figure.figsize':(11.27,8.27)})\n",
    "sns.heatmap(data.corr())"
   ]
  },
  {
   "cell_type": "markdown",
   "metadata": {},
   "source": [
    "### Correlation between Confirmed,Delta_Confirmed,Active,Delta_Active,Recovered and Delta_Recovered"
   ]
  },
  {
   "cell_type": "code",
   "execution_count": 33,
   "metadata": {},
   "outputs": [
    {
     "data": {
      "text/html": [
       "<div>\n",
       "<style scoped>\n",
       "    .dataframe tbody tr th:only-of-type {\n",
       "        vertical-align: middle;\n",
       "    }\n",
       "\n",
       "    .dataframe tbody tr th {\n",
       "        vertical-align: top;\n",
       "    }\n",
       "\n",
       "    .dataframe thead th {\n",
       "        text-align: right;\n",
       "    }\n",
       "</style>\n",
       "<table border=\"1\" class=\"dataframe\">\n",
       "  <thead>\n",
       "    <tr style=\"text-align: right;\">\n",
       "      <th></th>\n",
       "      <th>Confirmed</th>\n",
       "      <th>Delta_Confirmed</th>\n",
       "      <th>Active</th>\n",
       "      <th>Delta_Active</th>\n",
       "      <th>Recovered</th>\n",
       "      <th>Delta_Recovered</th>\n",
       "    </tr>\n",
       "  </thead>\n",
       "  <tbody>\n",
       "    <tr>\n",
       "      <td>Confirmed</td>\n",
       "      <td>1.000000</td>\n",
       "      <td>0.044341</td>\n",
       "      <td>0.572924</td>\n",
       "      <td>0.045910</td>\n",
       "      <td>0.934575</td>\n",
       "      <td>-0.005848</td>\n",
       "    </tr>\n",
       "    <tr>\n",
       "      <td>Delta_Confirmed</td>\n",
       "      <td>0.044341</td>\n",
       "      <td>1.000000</td>\n",
       "      <td>0.131764</td>\n",
       "      <td>0.975711</td>\n",
       "      <td>-0.002880</td>\n",
       "      <td>0.132040</td>\n",
       "    </tr>\n",
       "    <tr>\n",
       "      <td>Active</td>\n",
       "      <td>0.572924</td>\n",
       "      <td>0.131764</td>\n",
       "      <td>1.000000</td>\n",
       "      <td>0.131267</td>\n",
       "      <td>0.244088</td>\n",
       "      <td>0.006155</td>\n",
       "    </tr>\n",
       "    <tr>\n",
       "      <td>Delta_Active</td>\n",
       "      <td>0.045910</td>\n",
       "      <td>0.975711</td>\n",
       "      <td>0.131267</td>\n",
       "      <td>1.000000</td>\n",
       "      <td>-0.000786</td>\n",
       "      <td>-0.088276</td>\n",
       "    </tr>\n",
       "    <tr>\n",
       "      <td>Recovered</td>\n",
       "      <td>0.934575</td>\n",
       "      <td>-0.002880</td>\n",
       "      <td>0.244088</td>\n",
       "      <td>-0.000786</td>\n",
       "      <td>1.000000</td>\n",
       "      <td>-0.009645</td>\n",
       "    </tr>\n",
       "    <tr>\n",
       "      <td>Delta_Recovered</td>\n",
       "      <td>-0.005848</td>\n",
       "      <td>0.132040</td>\n",
       "      <td>0.006155</td>\n",
       "      <td>-0.088276</td>\n",
       "      <td>-0.009645</td>\n",
       "      <td>1.000000</td>\n",
       "    </tr>\n",
       "  </tbody>\n",
       "</table>\n",
       "</div>"
      ],
      "text/plain": [
       "                 Confirmed  Delta_Confirmed    Active  Delta_Active  \\\n",
       "Confirmed         1.000000         0.044341  0.572924      0.045910   \n",
       "Delta_Confirmed   0.044341         1.000000  0.131764      0.975711   \n",
       "Active            0.572924         0.131764  1.000000      0.131267   \n",
       "Delta_Active      0.045910         0.975711  0.131267      1.000000   \n",
       "Recovered         0.934575        -0.002880  0.244088     -0.000786   \n",
       "Delta_Recovered  -0.005848         0.132040  0.006155     -0.088276   \n",
       "\n",
       "                 Recovered  Delta_Recovered  \n",
       "Confirmed         0.934575        -0.005848  \n",
       "Delta_Confirmed  -0.002880         0.132040  \n",
       "Active            0.244088         0.006155  \n",
       "Delta_Active     -0.000786        -0.088276  \n",
       "Recovered         1.000000        -0.009645  \n",
       "Delta_Recovered  -0.009645         1.000000  "
      ]
     },
     "execution_count": 33,
     "metadata": {},
     "output_type": "execute_result"
    }
   ],
   "source": [
    "df=data[['Confirmed','Delta_Confirmed','Active','Delta_Active','Recovered','Delta_Recovered']].corr()\n",
    "df"
   ]
  },
  {
   "cell_type": "code",
   "execution_count": 34,
   "metadata": {},
   "outputs": [
    {
     "data": {
      "text/plain": [
       "<matplotlib.axes._subplots.AxesSubplot at 0x24cc78c4d08>"
      ]
     },
     "execution_count": 34,
     "metadata": {},
     "output_type": "execute_result"
    },
    {
     "data": {
      "image/png": "[encoded data removed]",
      "text/plain": [
       "<Figure size 1080x360 with 2 Axes>"
      ]
     },
     "metadata": {},
     "output_type": "display_data"
    }
   ],
   "source": [
    "plt.figure(figsize=(15,5))\n",
    "sns.heatmap(df,cmap='viridis')"
   ]
  },
  {
   "cell_type": "code",
   "execution_count": null,
   "metadata": {},
   "outputs": [],
   "source": []
  }
 ],
 "metadata": {
  "kernelspec": {
   "display_name": "Python 3",
   "language": "python",
   "name": "python3"
  },
  "language_info": {
   "codemirror_mode": {
    "name": "ipython",
    "version": 3
   },
   "file_extension": ".py",
   "mimetype": "text/x-python",
   "name": "python",
   "nbconvert_exporter": "python",
   "pygments_lexer": "ipython3",
   "version": "3.7.4"
  }
 },
 "nbformat": 4,
 "nbformat_minor": 2
}
